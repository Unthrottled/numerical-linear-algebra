{
 "cells": [
  {
   "cell_type": "markdown",
   "metadata": {},
   "source": [
    "## Homework 1"
   ]
  },
  {
   "cell_type": "markdown",
   "metadata": {},
   "source": [
    "This is due on Thurs, 6/1"
   ]
  },
  {
   "cell_type": "markdown",
   "metadata": {},
   "source": [
    "1. Consider the polynomial $p(x) = (x-2)^9 = x^9 - 18x^8 + 144x^7 - 672x^6 + 2016x^5 - 4032x^4 + 5376x^3 - 4608x^2 + 2304x - 512$\n",
    "\n",
    "  a. Plot $p(x)$ for $x=1.920,\\,1.921,\\,1.922,\\ldots,2.080$ evaluating $p$ via its coefficients $1,\\,,-18,\\,144,\\ldots$\n",
    "\n",
    "  b. Plot the same plot again, now evaluating $p$ via the expression $(x-2)^9$.\n",
    "\n",
    "  c. Explain the difference.\n",
    "  \n",
    "  *(The numpy method linspace will be useful for this)*"
   ]
  },
  {
   "cell_type": "code",
   "execution_count": 10,
   "metadata": {},
   "outputs": [
    {
     "data": {
      "text/plain": [
       "[<matplotlib.lines.Line2D at 0x1195dff28>]"
      ]
     },
     "execution_count": 10,
     "metadata": {},
     "output_type": "execute_result"
    },
    {
     "data": {
      "image/png": "[encoded data removed]",
      "text/plain": [
       "<Figure size 432x288 with 1 Axes>"
      ]
     },
     "metadata": {
      "needs_background": "light"
     },
     "output_type": "display_data"
    }
   ],
   "source": [
    "from functools import reduce\n",
    "%matplotlib inline\n",
    "from matplotlib import pyplot as plt, rcParams, rc\n",
    "\n",
    "poly = [lambda x: 𝑥**9, lambda x:-(18 * 𝑥**8), lambda x:144 * 𝑥**7,\n",
    "       lambda x: -672 * 𝑥**6, lambda x:2016 * 𝑥**5, lambda x:-4032 * 𝑥**4, lambda x:5376 * 𝑥**3,\n",
    "       lambda x:-4608 * 𝑥**2, lambda x:2304 * 𝑥, lambda x:-512]\n",
    "\n",
    "def p(x):\n",
    "    return reduce(lambda x,y: x+y, map(lambda func: func(x), poly)) \n",
    "\n",
    "def expressionP(x):\n",
    "    return (x - 2)**9\n",
    "\n",
    "plots = list(map(lambda x: p(x/1000), range(1920, 2080,1)))\n",
    "plt.plot(plots)\n",
    "expressionPlots = list(map(lambda x: expressionP(x/1000), range(1920, 2080,1)))\n",
    "plt.plot(expressionPlots)\n",
    "\n",
    "#The coefficient evalutation has more precision, where the expression\n",
    "#has less precision as it is more smooth."
   ]
  },
  {
   "cell_type": "markdown",
   "metadata": {},
   "source": [
    "2\\. How many different double-precision numbers are there?  Express your answer using powers of 2"
   ]
  },
  {
   "cell_type": "code",
   "execution_count": 15,
   "metadata": {},
   "outputs": [
    {
     "data": {
      "text/plain": [
       "18442240474082181120"
      ]
     },
     "execution_count": 15,
     "metadata": {},
     "output_type": "execute_result"
    }
   ],
   "source": [
    "2**64 - 2**52"
   ]
  },
  {
   "cell_type": "markdown",
   "metadata": {},
   "source": [
    "3\\. Using the updated [Numbers Every Programmer Should Know](https://people.eecs.berkeley.edu/~rcs/research/interactive_latency.html), how much longer does a main memory reference take than an L1 cache look-up?  How much longer does a disk seek take than a main memory reference?"
   ]
  },
  {
   "cell_type": "code",
   "execution_count": 11,
   "metadata": {},
   "outputs": [
    {
     "name": "stdout",
     "output_type": "stream",
     "text": [
      "Main memory cache takes 100.0 times longer than L1 lookup\n",
      "Main memory cache takes 30000.0 times longer than L1 lookup\n"
     ]
    }
   ],
   "source": [
    "mainMemory = 100\n",
    "L1 = 1\n",
    "diskSeek = 3000000\n",
    "print(\"Main memory cache takes {} times longer than L1 lookup\".format(mainMemory/L1))\n",
    "print(\"Main memory cache takes {} times longer than L1 lookup\".format(diskSeek/mainMemory))"
   ]
  },
  {
   "cell_type": "markdown",
   "metadata": {},
   "source": [
    "4\\. From the Halide Video, what are 4 ways to traverse a 2d array?"
   ]
  },
  {
   "cell_type": "markdown",
   "metadata": {},
   "source": [
    "- Scan Line Order: Iterate over the columns of each row before sequentially moving down to the next row.\n",
    "- Column Major: Iterate over the rows of each column before sequentially moving to the next column.\n",
    "- Scan Line Order, vectorization: Iterate over the columns of each row in vectors of 4 before sequentially moving down to the next row.\n",
    "- Recursive Block Splitting: Break the input into blocks and allow for each block to be processed in tile traversal."
   ]
  },
  {
   "cell_type": "markdown",
   "metadata": {},
   "source": [
    "5\\. Using the animations below ([source](https://www.youtube.com/watch?v=3uiEyEKji0M)), explain what the benefits and pitfalls of each approach. Green squares indicate that a value is being read; red indicates a value is being written. Your answers should be longer in length (give more detail) than just two words.\n",
    "\n",
    "  a. <img src=\"images/Halide1.gif\" alt=\"Halide\" style=\"width: 70%\"/>\n",
    "  \n",
    "  b. <img src=\"images/Halide2.gif\" alt=\"Halide\" style=\"width: 70%\"/>\n",
    "  \n",
    "  c. <img src=\"images/Halide3.gif\" alt=\"Halide\" style=\"width: 70%\"/>"
   ]
  },
  {
   "cell_type": "markdown",
   "metadata": {},
   "source": [
    "- a)It's the most simple solution. However, it quite slow and the resulting output is not worked on until the entire intermediary step is complete.\n",
    "- b)There is less need to have a lot of memory to store all the intermediary computations of blurred in x. However, it does lead to a lot of repeat work having to rescan the input and recompute the blurred in x for later rows of the output.\n",
    "- c)There is less repeated work than there was in b, with the same memory advantage. However this approach is not parellelizable and requires that work has already been computed for the outputs preceding it."
   ]
  },
  {
   "cell_type": "markdown",
   "metadata": {},
   "source": [
    "6\\. Prove that if $A = Q B Q^T$ for some orthnogonal matrix $Q$, the $A$ and $B$ have the same singular values."
   ]
  },
  {
   "cell_type": "markdown",
   "metadata": {},
   "source": [
    "- $A = Q \\Sigma Q^T$\n",
    "-  $Q B Q^T$  = $Q \\Sigma Q^T$\n",
    "- $Q \\Sigma Q^T$ = $Q \\Sigma Q^T $\n",
    "- $Q^T( Q \\Sigma Q^T) = Q^T(Q \\Sigma Q^T)$\n",
    "- $I \\Sigma Q^T = I\\Sigma Q^T$\n",
    "- $( \\Sigma Q^T)Q = (\\Sigma Q^T)Q$\n",
    "- $\\Sigma I = \\Sigma I$\n",
    "- $\\Sigma = \\Sigma$"
   ]
  },
  {
   "cell_type": "markdown",
   "metadata": {},
   "source": [
    "7\\. What is the *stochastic* part of *stochastic gradient descent*?"
   ]
  },
  {
   "cell_type": "markdown",
   "metadata": {},
   "source": [
    "- It is the part where the data that is used to determine the error is a randomly selected smaller subset of the entire data set."
   ]
  },
  {
   "cell_type": "code",
   "execution_count": null,
   "metadata": {},
   "outputs": [],
   "source": []
  }
 ],
 "metadata": {
  "kernelspec": {
   "display_name": "Python 3",
   "language": "python",
   "name": "python3"
  },
  "language_info": {
   "codemirror_mode": {
    "name": "ipython",
    "version": 3
   },
   "file_extension": ".py",
   "mimetype": "text/x-python",
   "name": "python",
   "nbconvert_exporter": "python",
   "pygments_lexer": "ipython3",
   "version": "3.7.3"
  }
 },
 "nbformat": 4,
 "nbformat_minor": 2
}
