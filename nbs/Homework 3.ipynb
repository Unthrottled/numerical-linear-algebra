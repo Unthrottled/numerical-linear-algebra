{
 "cells": [
  {
   "cell_type": "markdown",
   "metadata": {},
   "source": [
    "# Homework 3"
   ]
  },
  {
   "cell_type": "markdown",
   "metadata": {},
   "source": [
    "1\\. Add shifts to the QR algorithm\n",
    "\n",
    "Instead of factoring $A_k$ as $Q_k R_k$ (the way the pure QR algorithm without shifts does), the shifted QR algorithms:\n",
    "\n",
    "i. Get the QR factorization $A_k - s_k I = Q_k R_k$\n",
    "\n",
    "ii. Set $A_{k+1} = R_k Q_k + s_k I$\n",
    "\n",
    "Choose $s_k = A_k(m,m)$, an approximation of an eigenvalue of A. \n",
    "\n",
    "The idea of adding shifts to speed up convergence shows up in many algorithms in numerical linear algebra (including the power method, inverse iteration, and Rayleigh quotient iteration).   "
   ]
  },
  {
   "cell_type": "code",
   "execution_count": 41,
   "metadata": {},
   "outputs": [],
   "source": [
    "from scipy import linalg\n",
    "import numpy as np\n",
    "\n",
    "def practical_qr(A, iters=10):\n",
    "    m = A.shape[1] - 1\n",
    "    Ak = np.copy(A)\n",
    "    n = A.shape[0]\n",
    "    QQ = np.eye(n)\n",
    "    for k in range(iters):\n",
    "        S = np.eye(m+1) * Ak[m,m]\n",
    "        Q, R = linalg.qr(Ak - S)\n",
    "        Ak = (R @ Q) + S\n",
    "        QQ = QQ @ Q\n",
    "    return Ak, QQ"
   ]
  },
  {
   "cell_type": "code",
   "execution_count": 46,
   "metadata": {},
   "outputs": [],
   "source": [
    "n = 10\n",
    "A = np.random.rand(n,n)\n",
    "Ak, Q = practical_qr(A)"
   ]
  },
  {
   "cell_type": "code",
   "execution_count": 48,
   "metadata": {},
   "outputs": [],
   "source": [
    "eigenValues = linalg.eigvals(A)"
   ]
  },
  {
   "cell_type": "code",
   "execution_count": 21,
   "metadata": {},
   "outputs": [
    {
     "data": {
      "text/plain": [
       "array([ 4.82559451+0.j        , -0.06101119+0.62768397j,\n",
       "       -0.06101119-0.62768397j, -0.41793051+0.27323077j,\n",
       "       -0.41793051-0.27323077j, -0.28777796+0.j        ,\n",
       "        0.84053428+0.26060361j,  0.84053428-0.26060361j,\n",
       "        0.57412545+0.j        ,  0.4943724 +0.j        ])"
      ]
     },
     "execution_count": 21,
     "metadata": {},
     "output_type": "execute_result"
    }
   ],
   "source": [
    "eigenValues"
   ]
  },
  {
   "cell_type": "code",
   "execution_count": 49,
   "metadata": {},
   "outputs": [],
   "source": [
    "qrEigenValues = np.diag(Ak)"
   ]
  },
  {
   "cell_type": "code",
   "execution_count": 50,
   "metadata": {},
   "outputs": [
    {
     "name": "stdout",
     "output_type": "stream",
     "text": [
      "5.24234950389431 (5.242349517654345+0j)\n",
      "-0.8279777495980776 (-0.29334722854726314+0.7970096681118036j)\n",
      "-0.36623196392967006 (-0.29334722854726314-0.7970096681118036j)\n",
      "-0.3296375651529606 (-0.9344654065479561+0j)\n",
      "-0.6312568227139612 (-0.6872882646282958+0j)\n",
      "0.8492166793635074 (0.6725903213290763+0.22354130754266613j)\n",
      "0.4291416611358275 (0.6725903213290763-0.22354130754266613j)\n",
      "0.6063384931334539 (0.5928602058584802+0j)\n",
      "0.16070282180261036 (0.16070282003483954+0j)\n",
      "0.07857893023652701 (0.07857893023652723+0j)\n"
     ]
    }
   ],
   "source": [
    "for i in range(n):\n",
    "    print(qrEigenValues[i], eigenValues[i])"
   ]
  },
  {
   "cell_type": "code",
   "execution_count": null,
   "metadata": {},
   "outputs": [],
   "source": []
  }
 ],
 "metadata": {
  "kernelspec": {
   "display_name": "Python 3",
   "language": "python",
   "name": "python3"
  },
  "language_info": {
   "codemirror_mode": {
    "name": "ipython",
    "version": 3
   },
   "file_extension": ".py",
   "mimetype": "text/x-python",
   "name": "python",
   "nbconvert_exporter": "python",
   "pygments_lexer": "ipython3",
   "version": "3.7.3"
  }
 },
 "nbformat": 4,
 "nbformat_minor": 2
}
